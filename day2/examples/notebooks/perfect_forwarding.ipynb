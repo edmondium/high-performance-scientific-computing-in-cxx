{
 "cells": [
  {
   "cell_type": "markdown",
   "id": "e1580beb-0f89-4879-8a91-3c52ebbd57b8",
   "metadata": {},
   "source": [
    "# Perfect forwarding\n",
    "\n",
    "In generic programming, the problem of perfect forwarding arises when a function template `f(T x)` working on an entity of type `T` invokes another function template `g` from within its body, using the same entity `x`. We want to be able to _forward_ `x` as it was to `g`. If `x` was an L-value reference, we want `g` to be invoked using an L-value reference. If the input is an R-value reference, we want `g` to be called accordingly.  "
   ]
  },
  {
   "cell_type": "code",
   "execution_count": null,
   "id": "825e32fe-62df-414d-9272-7e2c92b14870",
   "metadata": {},
   "outputs": [],
   "source": [
    "#pragma cling add_include_path(\"/p/project/training2444/local/include\")\n",
    "#include <Vbose.hh>"
   ]
  },
  {
   "cell_type": "code",
   "execution_count": null,
   "id": "5df853c3-12d1-434c-9dee-c8830ae8f3a5",
   "metadata": {},
   "outputs": [],
   "source": [
    "Vbose l{\"0000\"};"
   ]
  },
  {
   "cell_type": "code",
   "execution_count": null,
   "id": "eab3a824-1192-4357-9dfe-6ffa6e983c01",
   "metadata": {},
   "outputs": [],
   "source": [
    "namespace v0{\n",
    "template <class T>\n",
    "void g(T x) {\n",
    "    std::cout << \"Inside function g\\n\";\n",
    "    Vbose a{x};\n",
    "    std::cout << \"Leaving g()\\n\";\n",
    "}\n",
    "template <class T>\n",
    "void f(T x) {\n",
    "    std::cout << \"Inside f(), calling g() ...\\n\";\n",
    "    g(x);\n",
    "    std::cout << \"Leaving f()\\n\";\n",
    "}\n",
    "}"
   ]
  },
  {
   "cell_type": "markdown",
   "id": "06cede35-a971-48e0-961e-b4508ff815b9",
   "metadata": {},
   "source": [
    "A naive implementation as above leads to some unnecessary copies, which can be easily avoided. Here we call `v0::f` using a pre-existing name `l`, i.e., an L-value reference."
   ]
  },
  {
   "cell_type": "code",
   "execution_count": null,
   "id": "4043d290-0cd9-48d0-aac7-61b1e3cb4b46",
   "metadata": {},
   "outputs": [],
   "source": [
    "v0::f(l);"
   ]
  },
  {
   "cell_type": "markdown",
   "id": "87d634b4-6660-4159-a7eb-11e305241dc1",
   "metadata": {},
   "source": [
    "Now we call it using an unnamed temporary, i.e., an R-value reference."
   ]
  },
  {
   "cell_type": "code",
   "execution_count": null,
   "id": "5a038d1e-8a94-4777-aa0d-9b883aade647",
   "metadata": {},
   "outputs": [],
   "source": [
    "v0::f(Vbose{\"1111\"});"
   ]
  },
  {
   "cell_type": "markdown",
   "id": "4828cd1f-4d2e-4237-9be3-5d3c3b6727e3",
   "metadata": {},
   "source": [
    "Of course, you realise that we have been passing parameters to the functions `f` and `g` as if they were ordinary value parameters. Although `T` is inferred by the compiler, as written above, `T` is deduced as a value type, not as a reference. What if we changed the inputs to constant references ..."
   ]
  },
  {
   "cell_type": "code",
   "execution_count": null,
   "id": "3da868f8-58a0-4529-9aa0-d0663d72bae8",
   "metadata": {},
   "outputs": [],
   "source": [
    "namespace v1{\n",
    "template <class T>\n",
    "void g(const T& x) {\n",
    "    std::cout << \"Inside function g\\n\";\n",
    "    Vbose a{x};\n",
    "    std::cout << \"Leaving g()\\n\";\n",
    "}\n",
    "template <class T>\n",
    "void f(const T& x) {\n",
    "    std::cout << \"Inside f(), calling g() ...\\n\";\n",
    "    g(x);\n",
    "    std::cout << \"Leaving f()\\n\";\n",
    "}\n",
    "}"
   ]
  },
  {
   "cell_type": "code",
   "execution_count": null,
   "id": "0f321721-03ce-4fdc-8ff1-19609dd844f3",
   "metadata": {},
   "outputs": [],
   "source": [
    "v1::f(l);"
   ]
  },
  {
   "cell_type": "markdown",
   "id": "36586916-27b8-4417-a134-80db0982056c",
   "metadata": {},
   "source": [
    "How wonderful! Just one copy constructor called when we created the `Vbose` object inside `g`. No spurious copies. But..."
   ]
  },
  {
   "cell_type": "code",
   "execution_count": null,
   "id": "9088750e-a3a7-415f-80dd-193634d39673",
   "metadata": {},
   "outputs": [],
   "source": [
    "v1::f(Vbose{\"2222\"});"
   ]
  },
  {
   "cell_type": "markdown",
   "id": "797eb7a3-4e11-4938-ba09-a6c542d9fc04",
   "metadata": {},
   "source": [
    "Here we call `f` with a temporary, an R-value reference. The class `Vbose` has a move constructor. It would have been nice if `g` somehow got the information from `f`. We want the following: \n",
    "\n",
    "    - `g` should be called with an L-value reference if the input to `f` is one.\n",
    "    - `g` should be called with an R-value reference if the input to `f` is one.\n",
    "\n",
    "By making our definitions explicitly `const T&` above we have lost this flexibility. How should we make our template result in different types of references depending on the different types of references in the input?\n",
    "\n",
    "Introducing _forwarding references_..."
   ]
  },
  {
   "cell_type": "code",
   "execution_count": null,
   "id": "f97befaf-8c53-408f-a6d9-4b85d5cdad69",
   "metadata": {},
   "outputs": [],
   "source": [
    "namespace v2{\n",
    "template <class T>\n",
    "void g(T&& x) {\n",
    "    std::cout << \"Inside function g\\n\";\n",
    "    Vbose a{std::forward<T>(x)};\n",
    "    std::cout << \"Leaving g()\\n\";\n",
    "}\n",
    "}"
   ]
  },
  {
   "cell_type": "markdown",
   "id": "04c5063c-47e9-4f44-953f-48a940eaa477",
   "metadata": {},
   "source": [
    "In the above definition, the input to `g` is *not* an R-value reference. A template parameter written in terms of a seemingly R-value reference to a placeholder type `T` has special rules of deduction. \n",
    "\n",
    "  - if `x` is an L-value reference, `T` is inferred to be an L-value reference, so that the function is translated as if you wrote `void g((sometype&) && x) ...`. The reference compression rules of C++ then make this simply `void g(sometype& x)...`.\n",
    "  - If `x` is an R-value reference, `T` is inferred to be the ordinary value type, so that the function is translated as if you wrote `void g(sometype && x) ...`.\n",
    "\n",
    "    In both cases, inside the function we have the full reference qualified type of `x` in  `T&&`. However, since `x` itself is a name, if we simply constructed `a` as `a{x}`, we would still be calling the copy constructor of `Vbose`. We want to cast the symbol `x` into the appropriate reference qualified type, something like: `static_cast<T&&>(x)`. A pretty way to write that is `std::forward<T>(x)`, as done above. Let's see what it does..."
   ]
  },
  {
   "cell_type": "code",
   "execution_count": null,
   "id": "ad489d79-5129-42e3-9def-a1cc9a835b74",
   "metadata": {},
   "outputs": [],
   "source": [
    "v2::g(l);"
   ]
  },
  {
   "cell_type": "markdown",
   "id": "a2a0010c-cb92-4768-89f6-6eefa3c591f5",
   "metadata": {},
   "source": [
    "As expected, the `Vbose` constructor called inside `g` is a copy constructor, since we called `g` with an L-value reference. More importantly..."
   ]
  },
  {
   "cell_type": "code",
   "execution_count": null,
   "id": "9362742d-0d7a-4a57-baca-af52f35ed42f",
   "metadata": {},
   "outputs": [],
   "source": [
    "v2::g(Vbose{\"3333\"});"
   ]
  },
  {
   "cell_type": "markdown",
   "id": "671362a0-0d35-4010-a865-4f41748a20b7",
   "metadata": {},
   "source": [
    "when we call `g` with a temporary object, the same function `g` calls the move constructor of `Vbose`, because it forwards the \"temporariness\" information of `x` to the constructor call. Using the same idea on `f` we get..."
   ]
  },
  {
   "cell_type": "code",
   "execution_count": null,
   "id": "c554c7d1-16e6-4650-9a90-e45119089083",
   "metadata": {},
   "outputs": [],
   "source": [
    "namespace v2{\n",
    "template <class T>\n",
    "void f(T&& x) {\n",
    "    std::cout << \"Inside f(), calling g() ...\\n\";\n",
    "    g(std::forward<T>(x));\n",
    "    std::cout << \"Leaving f()\\n\";\n",
    "}\n",
    "}"
   ]
  },
  {
   "cell_type": "code",
   "execution_count": null,
   "id": "84a976b4-c461-4a96-b91b-4216033e98ab",
   "metadata": {},
   "outputs": [],
   "source": [
    "v2::f(l);"
   ]
  },
  {
   "cell_type": "code",
   "execution_count": null,
   "id": "bebad0a3-027f-4add-bf08-d834cf4a1a9b",
   "metadata": {},
   "outputs": [],
   "source": [
    "v2::f(Vbose{\"4444\"});"
   ]
  },
  {
   "cell_type": "markdown",
   "id": "9f00dfbb-5421-4aef-b76d-10c079944e5a",
   "metadata": {},
   "source": [
    "Only the essential constructor calls remain now, as the reference type information is now correctly forwarded by the outer layers. Let's now examine this for another situation where the impact is more drastic! "
   ]
  },
  {
   "cell_type": "code",
   "execution_count": null,
   "id": "e8629e91-9f79-4431-b47d-47f61f8f0ad6",
   "metadata": {},
   "outputs": [],
   "source": [
    "template <class T>\n",
    "struct Entity0 {\n",
    "  Entity0(T x, T y) : l{x}, r{y} {}\n",
    "\n",
    "  T l, r;\n",
    "};"
   ]
  },
  {
   "cell_type": "code",
   "execution_count": null,
   "id": "9ddf72a7-c111-4fdb-bdaa-eb7831d2f22a",
   "metadata": {},
   "outputs": [],
   "source": [
    "Vbose lvl{\"0000\"};"
   ]
  },
  {
   "cell_type": "code",
   "execution_count": null,
   "id": "248a7ab6-3b5a-4bb1-b67d-5a71f9116afe",
   "metadata": {},
   "outputs": [],
   "source": [
    "{\n",
    "    Entity0<Vbose> e{lvl, Vbose{\"1111\"}};\n",
    "}"
   ]
  },
  {
   "cell_type": "markdown",
   "id": "3fbbd36e-f952-486a-9366-397ebab385c1",
   "metadata": {},
   "source": [
    "This is expected, because we are using ordinary types instead of forwarding references as the constructor inputs. Using the lessons learned above, we can write..."
   ]
  },
  {
   "cell_type": "code",
   "execution_count": null,
   "id": "18b46cc4-9520-423d-b0b5-923d667c2246",
   "metadata": {},
   "outputs": [],
   "source": [
    "template <class T>\n",
    "struct Entity1 {\n",
    "  template <class U, class V>\n",
    "  Entity1(U&& x, V&& y) : l{std::forward<U>(x)}, r{std::forward<V>(y)} {}\n",
    "\n",
    "  T l, r;\n",
    "};"
   ]
  },
  {
   "cell_type": "code",
   "execution_count": null,
   "id": "ccdc1340-e07c-48f2-acbb-cd8281bc68de",
   "metadata": {},
   "outputs": [],
   "source": [
    "{\n",
    "    Entity1<Vbose> e{lvl, Vbose{\"2222\"}};\n",
    "}"
   ]
  },
  {
   "cell_type": "markdown",
   "id": "660bf5df-aa60-4476-93a4-753dc422f19c",
   "metadata": {},
   "source": [
    "Notice how the move constructor is used when the input allows it. Change the above cell by making the first input a temporary, both or none temporaries etc. You will see that the above actually behaves as if we had written the following 4 constructors!\n",
    "```\n",
    "struct Entity2 {\n",
    "  Entity2(const Vbose& x, const Vbose& y) : l{x}, r{y} {}\n",
    "  Entity2(const Vbose& x, Vbose&& y) : l{x}, r{std::move(y)} {}\n",
    "  Entity2(Vbose&& x, const Vbose& y) : l{std::move(x)}, r{y} {}\n",
    "  Entity2(Vbose&& x, Vbose&& y) : l{std::move(x)}, r{std::move(y)} {}\n",
    "\n",
    "  Vbose l, r;\n",
    "};\n",
    "```\n"
   ]
  },
  {
   "cell_type": "markdown",
   "id": "58829584-2dc4-43d3-8c67-cf4fce413c75",
   "metadata": {},
   "source": [
    "To illustrate the usefulness of these forwarding references, and demonstrate their syntax when using variadic templates, we consider the following container type."
   ]
  },
  {
   "cell_type": "code",
   "execution_count": null,
   "id": "fcb002f8-4a64-4722-a9d9-0b6ca3864232",
   "metadata": {},
   "outputs": [],
   "source": [
    "template <class T> struct Container {\n",
    "    template <class ...Args>\n",
    "    void emplace(Args... args) {\n",
    "        std::cout << \"Entered the emplace function.\\n\";\n",
    "        T obj{args...};\n",
    "        std::cout << \"Created contained type.\\n\";\n",
    "    }\n",
    "};"
   ]
  },
  {
   "cell_type": "code",
   "execution_count": null,
   "id": "c35daca1-a6f8-4622-9f99-a346f96ff99f",
   "metadata": {},
   "outputs": [],
   "source": [
    "{\n",
    "    Container<Entity1<Vbose>> v;\n",
    "    v.emplace(lvl, Vbose{\"CCCC\"});\n",
    "}"
   ]
  },
  {
   "cell_type": "markdown",
   "id": "0ed52b48-989c-4134-a806-b7f0d2ea3bc8",
   "metadata": {},
   "source": [
    "Simply writing the emplace in terms of constant references is inadequate..."
   ]
  },
  {
   "cell_type": "code",
   "execution_count": null,
   "id": "9715ae5a-87c3-466b-8ea2-330d08be16e6",
   "metadata": {},
   "outputs": [],
   "source": [
    "template <class T> struct Container2 {\n",
    "    template <class ...Args>\n",
    "    void emplace(const Args&... args) {\n",
    "        std::cout << \"Entered the emplace function.\\n\";\n",
    "        T obj{args...};\n",
    "        std::cout << \"Created contained type.\\n\";\n",
    "    }\n",
    "};"
   ]
  },
  {
   "cell_type": "code",
   "execution_count": null,
   "id": "3fca6573-55a4-414d-836c-5843016b200a",
   "metadata": {},
   "outputs": [],
   "source": [
    "{\n",
    "    Container2<Entity1<Vbose>> v;\n",
    "    v.emplace(lvl, Vbose{\"CCCC\"});\n",
    "}"
   ]
  },
  {
   "cell_type": "markdown",
   "id": "ca317857-b521-4539-b99d-80c3f160a73e",
   "metadata": {},
   "source": [
    "We need to _forward_ the inputs to emplace down to the object constructor, like so..."
   ]
  },
  {
   "cell_type": "code",
   "execution_count": null,
   "id": "87122c08-5baf-44d7-9277-c4acae3bfe16",
   "metadata": {},
   "outputs": [],
   "source": [
    "template <class T> struct Container3 {\n",
    "    template <class ...Args>\n",
    "    void emplace(Args&&... args) {\n",
    "        std::cout << \"Entered the emplace function.\\n\";\n",
    "        T obj{std::forward<Args>(args)...};\n",
    "        std::cout << \"Created contained type.\\n\";\n",
    "    }\n",
    "};"
   ]
  },
  {
   "cell_type": "code",
   "execution_count": null,
   "id": "c2614838-1b55-4850-b74a-900bca221f33",
   "metadata": {},
   "outputs": [],
   "source": [
    "{\n",
    "    Container3<Entity1<Vbose>> v;\n",
    "    v.emplace(lvl, Vbose{\"CCCC\"});\n",
    "}"
   ]
  },
  {
   "cell_type": "code",
   "execution_count": null,
   "id": "a6012eb4-79e1-4927-a34b-ffdd439fe812",
   "metadata": {},
   "outputs": [],
   "source": []
  }
 ],
 "metadata": {
  "kernelspec": {
   "display_name": "C++17",
   "language": "C++",
   "name": "cling-cpp17"
  },
  "language_info": {
   "codemirror_mode": "c++",
   "file_extension": ".c++",
   "mimetype": "text/x-c++src",
   "name": "c++"
  }
 },
 "nbformat": 4,
 "nbformat_minor": 5
}
