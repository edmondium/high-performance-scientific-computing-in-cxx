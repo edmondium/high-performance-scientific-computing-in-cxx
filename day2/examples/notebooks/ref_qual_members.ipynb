{
 "cells": [
  {
   "cell_type": "markdown",
   "id": "7ffa4d0e-f423-4c57-9845-1ac747ae50b3",
   "metadata": {},
   "source": [
    "# Ref- qualified member functions\n",
    "\n",
    "C++11 introduced reference qualifiers to class non-static member functions. Before C++11, a member function could be `const` or not-`const`, where the specified CV qualification of the member function applied to the calling instance.  "
   ]
  },
  {
   "cell_type": "code",
   "execution_count": null,
   "id": "c5203f53-a255-46e1-8c23-b25a4790737e",
   "metadata": {},
   "outputs": [],
   "source": [
    "#pragma cling add_include_path(\"/p/project/training2444/local/include\")\n",
    "#include <Vbose.hh>"
   ]
  },
  {
   "cell_type": "code",
   "execution_count": null,
   "id": "14ff07e3-b1e3-4df5-9e2f-d59b1d01683d",
   "metadata": {},
   "outputs": [],
   "source": [
    "namespace v0 {\n",
    "struct FileData {\n",
    "    Vbose header_text{};\n",
    "    unsigned long bulk{};\n",
    "    auto header() const -> const Vbose& { return header_text; }\n",
    "    auto header() -> Vbose& { return header_text; }\n",
    "};\n",
    "\n",
    "auto readfile(std::string fn) -> FileData\n",
    "{\n",
    "    static auto c = 0UL;\n",
    "    return {{fn}, c++};\n",
    "}\n",
    "}"
   ]
  },
  {
   "cell_type": "markdown",
   "id": "bbeb9277-11a5-4a79-9d5b-c582fe784370",
   "metadata": {},
   "source": [
    "Two example uses are shown below."
   ]
  },
  {
   "cell_type": "code",
   "execution_count": null,
   "id": "ba374f2e-6479-4676-b39e-8320f0c6c00c",
   "metadata": {},
   "outputs": [],
   "source": [
    "{\n",
    "    auto f1 = v0::readfile(\"f1\");\n",
    "    auto h1 = f1.header(); // copy\n",
    "    auto h2 = v0::readfile(\"f2\").header();\n",
    "    // move desirable, but h2 is copy constructed.\n",
    "}"
   ]
  },
  {
   "cell_type": "markdown",
   "id": "ac9dada0-efda-483b-8c75-6a1b411afec3",
   "metadata": {},
   "source": [
    "Both `h1` and `h2` are copy constructed above, because even though the second call to `header` is invoked on a temporary object, that information isn't used in the definition of `header`. It still returns an L-value reference. How would we write these functions specially for those situations where the calling instance is in fact a temporary?"
   ]
  },
  {
   "cell_type": "code",
   "execution_count": null,
   "id": "f4784073-3352-45a9-a0f7-fd4551b02481",
   "metadata": {},
   "outputs": [],
   "source": [
    "namespace v1 {\n",
    "struct FileData {\n",
    "    Vbose header_text{};\n",
    "    unsigned long bulk{};\n",
    "// ref qualified members, since C++11\n",
    "    auto header() const& -> const Vbose& { return header_text; }\n",
    "    auto header() & -> Vbose& { return header_text; }\n",
    "    auto header() const&& -> const Vbose&& { return std::move(header_text); }\n",
    "    auto header() && -> Vbose&& { return std::move(header_text); }\n",
    "};\n",
    "\n",
    "auto readfile(std::string fn) -> FileData\n",
    "{\n",
    "    static auto c = 0UL;\n",
    "    return {{fn}, c++};\n",
    "}\n",
    "}"
   ]
  },
  {
   "cell_type": "code",
   "execution_count": null,
   "id": "00fb5b2d-4730-459a-979f-389d94e2c859",
   "metadata": {},
   "outputs": [],
   "source": [
    "{\n",
    "    auto f1 = v1::readfile(\"f1\");\n",
    "    auto h1 = f1.header(); // copy\n",
    "    auto h2 = v1::readfile(\"f2\").header(); // move\n",
    "}"
   ]
  },
  {
   "cell_type": "markdown",
   "id": "f85c4ff5-6390-4c11-8267-b26e0b363000",
   "metadata": {},
   "source": [
    "We have the desired effect of using possible optimisations when the calling instance is a temporary or an expiring value."
   ]
  },
  {
   "cell_type": "code",
   "execution_count": null,
   "id": "3a7a6ff0-1d86-400f-a1be-fbc6c14f0bf8",
   "metadata": {},
   "outputs": [],
   "source": []
  }
 ],
 "metadata": {
  "kernelspec": {
   "display_name": "C++17",
   "language": "C++",
   "name": "cling-cpp17"
  },
  "language_info": {
   "codemirror_mode": "c++",
   "file_extension": ".c++",
   "mimetype": "text/x-c++src",
   "name": "c++"
  }
 },
 "nbformat": 4,
 "nbformat_minor": 5
}
