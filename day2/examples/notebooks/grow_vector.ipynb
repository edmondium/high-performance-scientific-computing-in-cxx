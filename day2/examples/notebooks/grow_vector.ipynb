{
 "cells": [
  {
   "cell_type": "markdown",
   "id": "1178f208-3f2f-40cf-a520-938999bdab6b",
   "metadata": {},
   "source": [
    "\n"
   ]
  },
  {
   "cell_type": "markdown",
   "id": "a2d41cc4-6e97-4703-b874-4b9a5a8b6cac",
   "metadata": {},
   "source": [
    "# Growing std::vector\n",
    "\n",
    "`std::vector<T>` stores its contents contiguously in memory. This makes access to its elements simple and cache friendly, usually leading to nice performance. Nevertheless, it is a flexible dynamically sized container managing resources on the heap. In the class, we discussed how the growth of the vector entails occasional relocation of all the elements to a new location. This exercise demonstrates it."
   ]
  },
  {
   "cell_type": "code",
   "execution_count": null,
   "id": "0b06af83-ef4f-4188-823c-dac87699a04a",
   "metadata": {},
   "outputs": [],
   "source": [
    "#pragma cling add_include_path(\"/p/project/training2444/local/include\")\n",
    "#include <Vbose.hh>\n",
    "#include <vector>"
   ]
  },
  {
   "cell_type": "markdown",
   "id": "d04e30d6-31e6-4659-ab4f-29b63fa7ebd2",
   "metadata": {},
   "source": [
    "Let's start by creating an object of a type `Vbose`, whose definition is in the header `Vbose.hh`, distributed with the course material. The constructors, destructors and other special member functions of `Vbose` output messages when they are used. Observe:"
   ]
  },
  {
   "cell_type": "code",
   "execution_count": null,
   "id": "17dec6f0-7582-4854-9c2a-8beb4ca17c4e",
   "metadata": {},
   "outputs": [],
   "source": [
    "Vbose a{\"2024\"};"
   ]
  },
  {
   "cell_type": "code",
   "execution_count": null,
   "id": "0b26806d-2be0-49ee-93fc-f103f9d1f3dd",
   "metadata": {},
   "outputs": [],
   "source": [
    "{\n",
    "    Vbose b{a};\n",
    "} // b goes out of scope here!"
   ]
  },
  {
   "cell_type": "markdown",
   "id": "a1889d54-1d27-4f87-bf26-7b31f83dea2e",
   "metadata": {},
   "source": [
    "Now, let's examine what happens to the elements when we grow a vector by creating a `std::vector<Vbose>`and inserting elements into it."
   ]
  },
  {
   "cell_type": "code",
   "execution_count": null,
   "id": "412b373f-f84c-4c61-8186-34363bb659b8",
   "metadata": {},
   "outputs": [],
   "source": [
    "std::vector<Vbose> v;\n",
    "v.reserve(4UL);"
   ]
  },
  {
   "cell_type": "code",
   "execution_count": null,
   "id": "fdba7f85-7e3a-46b3-b7b5-44d2886d101b",
   "metadata": {},
   "outputs": [],
   "source": [
    "v.push_back(a);"
   ]
  },
  {
   "cell_type": "code",
   "execution_count": null,
   "id": "219eb384-b525-4edd-837d-93cde2473894",
   "metadata": {},
   "outputs": [],
   "source": [
    "v.push_back(a);"
   ]
  },
  {
   "cell_type": "code",
   "execution_count": null,
   "id": "4869eb21-ff06-44d3-9bd5-46b5a00cff02",
   "metadata": {},
   "outputs": [],
   "source": [
    "v.push_back(a);"
   ]
  },
  {
   "cell_type": "code",
   "execution_count": null,
   "id": "2c5f7de2-c655-4751-bd2b-b6e09edccca0",
   "metadata": {},
   "outputs": [],
   "source": [
    "v.push_back(a);"
   ]
  },
  {
   "cell_type": "code",
   "execution_count": null,
   "id": "24e6de4f-5fe2-4960-b684-66319f025bef",
   "metadata": {},
   "outputs": [],
   "source": [
    "v.push_back(a);"
   ]
  },
  {
   "cell_type": "markdown",
   "id": "42095a05-121c-441a-9d96-afd1a71243e5",
   "metadata": {},
   "source": [
    "Does the behaviour correspond to your expectations? When the vector grows beyond the previously reserved capacity, it allocates a new block of memory, constructs the new object at its expected location in the block and moves all previous elements to the new block.\n",
    "\n",
    "It should be immediately clear that if we had stored a pointer or an iterator or a reference to an element of the vector, and continued grow the vector, at some point, those pointers, references or iterators could all be potentially invalidated: the objects they were pointing to could be moved to a new block of memory as the vector grows."
   ]
  },
  {
   "cell_type": "code",
   "execution_count": null,
   "id": "c87a5f94-c5d9-4c94-ae6c-431812193d7a",
   "metadata": {},
   "outputs": [],
   "source": [
    "{\n",
    "    std::vector<Vbose> v2;\n",
    "    v2.reserve(2);\n",
    "    v2.push_back(a);\n",
    "    auto* ptr = &v2[0]; // Bad idea!\n",
    "    auto& ref = v2.front(); // Bad idea!\n",
    "    auto it = v2.begin(); // Bad idea!\n",
    "    std::cout << \"Through pointer: \" << ptr->value() << \"\\n\";\n",
    "    std::cout << \"Through reference: \" << ref.value() << \"\\n\";\n",
    "    std::cout << \"Through iterator: \" << it->value() << \"\\n\";\n",
    "    v2.push_back(a);\n",
    "    std::cout << \"Through pointer: \" << ptr->value() << \"\\n\";\n",
    "    std::cout << \"Through reference: \" << ref.value() << \"\\n\";\n",
    "    std::cout << \"Through iterator: \" << it->value() << \"\\n\";\n",
    "    v2.push_back(a); // Entering crazy town...\n",
    " \n",
    "    // Uncommenting any of the following lines will likely\n",
    "    // result in a SEGFAULT now in a normal terminal based run.\n",
    "    // Since we are in a Jupyter kernel, it will crash the\n",
    "    // kernel. Do try it! When it creashes, use the Restart Kernel\n",
    "    // button and re-run all the cells up to this point.\n",
    "    \n",
    "    // std::cout << \"Through pointer: \" << ptr->value() << \"\\n\";\n",
    "    // std::cout << \"Through reference: \" << ref.value() << \"\\n\";\n",
    "    // std::cout << \"Through iterator: \" << it->value() << \"\\n\";\n",
    "}"
   ]
  },
  {
   "cell_type": "markdown",
   "id": "a374e149-2013-4f15-a33e-0f7dd3855ddc",
   "metadata": {},
   "source": [
    "A safety recommendation: __Do not store element references to elements inside a vector which may grow__\n"
   ]
  },
  {
   "cell_type": "markdown",
   "id": "d9350d1d-fca9-46e7-95c0-acd6771f53a2",
   "metadata": {},
   "source": [
    "Now, another aspect of vectors since C++11 which often gets misused: `emplace_back`. To demonstrate, let's first fix a new capacity of our vector, so that we can start to anticipate the copies and moves..."
   ]
  },
  {
   "cell_type": "code",
   "execution_count": null,
   "id": "dd1ee0c7-0748-4500-9ce5-b8f5de7c4c5b",
   "metadata": {},
   "outputs": [],
   "source": [
    "v.reserve(v.size() + 20);"
   ]
  },
  {
   "cell_type": "markdown",
   "id": "ecdaa76f-2ee5-4689-acd4-c23686884fdd",
   "metadata": {},
   "source": [
    "`emplace_back()` is there to enable _in place_ construction of new objects in a container. However, it often gets used like this:"
   ]
  },
  {
   "cell_type": "code",
   "execution_count": null,
   "id": "792cb0d5-8f4c-4aa6-a440-eded4ff15cdf",
   "metadata": {},
   "outputs": [],
   "source": [
    "v.emplace_back(a);"
   ]
  },
  {
   "cell_type": "markdown",
   "id": "6981fd96-7a8b-4663-94a0-bc0a86b5040d",
   "metadata": {},
   "source": [
    "or this..."
   ]
  },
  {
   "cell_type": "code",
   "execution_count": null,
   "id": "d7de5b72-f49d-46a2-80b0-bff7040d727b",
   "metadata": {},
   "outputs": [],
   "source": [
    "v.emplace_back(Vbose{\"Frog\"});"
   ]
  },
  {
   "cell_type": "markdown",
   "id": "e7407ff0-f697-4566-936b-a2fbe46f7521",
   "metadata": {},
   "source": [
    "or this..."
   ]
  },
  {
   "cell_type": "code",
   "execution_count": null,
   "id": "6b1036ab-add4-455d-a4da-aede0963a493",
   "metadata": {},
   "outputs": [],
   "source": [
    "v.emplace_back<Vbose>({\"Frog\"});"
   ]
  },
  {
   "cell_type": "markdown",
   "id": "8b932eae-107d-4aa5-8170-b018c98e4929",
   "metadata": {},
   "source": [
    "As you can see, the above ways of using `emplace_back` are even worse than `push_back`, since we first create an object using the parameters given to `emplace_back`, move it to the data block, and destruct the moved from object. `push_back` simply copy constructs the object in the final location. `emplace_back` calls the constructor of the value type using the parameters given to it. The template arguments specify what is being entered inside the parentheses of `emplace_back` rather than the value type of the container. The compiler already knows that value type, and it would be a silly syntax to require that we specify that as above. The right way to use `emplace_back` is this: "
   ]
  },
  {
   "cell_type": "code",
   "execution_count": null,
   "id": "d7e78f47-94d2-47f3-9a1c-5d9d5a8609ee",
   "metadata": {},
   "outputs": [],
   "source": [
    "v.emplace_back(\"Cat\");"
   ]
  },
  {
   "cell_type": "markdown",
   "id": "c5185a16-ec0e-4d44-ba43-145733c85494",
   "metadata": {},
   "source": [
    "In this case, we directly created a new object inside the vector, using new data. Importantly, a `Vbose` object with the string \"Cat\" didn't exist, unlike the `push_back` examples above, where the source of the copy construction existed in our object `a`. To illustrate this point, let's consider how we would use `push_back` to insert a new object with new data, and contrast that to the same using `emplace_back`:"
   ]
  },
  {
   "cell_type": "code",
   "execution_count": null,
   "id": "07a5aec7-a258-4f7a-bd50-9e49b5bb083b",
   "metadata": {},
   "outputs": [],
   "source": [
    "v.push_back(Vbose{\"rhino\"});"
   ]
  },
  {
   "cell_type": "code",
   "execution_count": null,
   "id": "7b4aa9d4-c99a-429d-901e-dbe5d3fd29f0",
   "metadata": {},
   "outputs": [],
   "source": [
    "v.push_back({\"ram\"});"
   ]
  },
  {
   "cell_type": "code",
   "execution_count": null,
   "id": "89a980b8-6ec1-4d5a-9d31-26e3c80e33fc",
   "metadata": {},
   "outputs": [],
   "source": [
    "v.emplace_back(\"rabbit\");"
   ]
  },
  {
   "cell_type": "markdown",
   "id": "d6662aff-e99a-49a5-ad9e-39850bf08edb",
   "metadata": {},
   "source": [
    "Notice the difference? No construction-move-destruction, but rather a single call to the relevant constructor. Since the standard library programmers did not know what parameters our `Vbose` objects will need in the constructor, how did they write `emplace_back`?\n",
    "\n",
    "Functions like `emplace_back` are written using variadic templates. When we call `v.emplace_back(x, y, z)`, inside the implementation of `std::vector`, there is a call to a constructor `value_type (x, y, z)`. The inputs are _forwarded_ to the constructor as they are. But that's another topic!"
   ]
  },
  {
   "cell_type": "code",
   "execution_count": null,
   "id": "fe57f9c5-9462-457a-90fa-35df40ef8b35",
   "metadata": {},
   "outputs": [],
   "source": []
  }
 ],
 "metadata": {
  "kernelspec": {
   "display_name": "C++17",
   "language": "C++",
   "name": "cling-cpp17"
  },
  "language_info": {
   "codemirror_mode": "c++",
   "file_extension": ".c++",
   "mimetype": "text/x-c++src",
   "name": "c++"
  }
 },
 "nbformat": 4,
 "nbformat_minor": 5
}
